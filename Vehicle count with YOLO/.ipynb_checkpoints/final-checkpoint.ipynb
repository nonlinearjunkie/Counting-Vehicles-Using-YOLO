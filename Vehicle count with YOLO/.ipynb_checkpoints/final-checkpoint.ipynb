{
 "cells": [
  {
   "cell_type": "code",
   "execution_count": 1,
   "metadata": {},
   "outputs": [
    {
     "name": "stdout",
     "output_type": "stream",
     "text": [
      "\n",
      "Loading weights. Please Wait...100.00% Complete\r"
     ]
    }
   ],
   "source": [
    "\n",
    "#importing all necessary modules\n",
    "\n",
    "import cv2\n",
    "import matplotlib.pyplot as plt \n",
    "import serial \n",
    "import time\n",
    "\n",
    "\n",
    "from utils import *\n",
    "from darknet import Darknet\n",
    "\n",
    "from PyQt5 import QtCore, QtGui, QtWidgets\n",
    "\n",
    "from vehicle import control_lights"
   ]
  },
  {
   "cell_type": "code",
   "execution_count": 2,
   "metadata": {},
   "outputs": [],
   "source": [
    "# defining path and name of the cfg file which contains descreption of model\n",
    "cfg_file = 'yolov3.cfg'\n",
    "\n",
    "# Set path and name of the pre-trained weights file\n",
    "weight_file = 'yolov3.weights'\n",
    "\n",
    "# Set the location and name of the COCO object classes file\n",
    "names = 'coco.names'"
   ]
  },
  {
   "cell_type": "code",
   "execution_count": 3,
   "metadata": {},
   "outputs": [
    {
     "name": "stdout",
     "output_type": "stream",
     "text": [
      "\n",
      "Loading weights. Please Wait...100.00% Complete\r"
     ]
    }
   ],
   "source": [
    "# Load the network architecture\n",
    "model = Darknet(cfg_file)\n",
    "\n",
    "# Load the pre-trained weights\n",
    "model.load_weights(weight_file)\n",
    "\n",
    "# Load the COCO object classes\n",
    "class_names = load_class_names(names)"
   ]
  },
  {
   "cell_type": "code",
   "execution_count": 4,
   "metadata": {},
   "outputs": [],
   "source": [
    "nms_thresh = 0.6    # Set the NMS threshold\n",
    "\n",
    "iou_thresh = 0.4     # Set the IOU threshold"
   ]
  },
  {
   "cell_type": "code",
   "execution_count": 5,
   "metadata": {},
   "outputs": [],
   "source": [
    "#making list of vehicles as we only need to count no of vehicles\n",
    "list_of_vehicles = [\"car\",\"bus\",\"motorbike\",\"truck\",\"bicycle\"]"
   ]
  },
  {
   "cell_type": "code",
   "execution_count": 6,
   "metadata": {},
   "outputs": [],
   "source": [
    "ser=serial.Serial(\"COM3\",9600)    # create serial port named ser for communication with arduino"
   ]
  },
  {
   "cell_type": "code",
   "execution_count": 7,
   "metadata": {},
   "outputs": [
    {
     "name": "stdout",
     "output_type": "stream",
     "text": [
      "\n",
      "\n",
      "It took 4.050 seconds to detect the objects in the image.\n",
      "\n",
      "Number of Objects Detected: 5 \n",
      "\n",
      "Total vehicles in image 2\n",
      "Each vehicles count in image {'bus': 2}\n",
      "Low\n"
     ]
    },
    {
     "ename": "NameError",
     "evalue": "name 'ser' is not defined",
     "output_type": "error",
     "traceback": [
      "\u001b[1;31m---------------------------------------------------------------------------\u001b[0m",
      "\u001b[1;31mNameError\u001b[0m                                 Traceback (most recent call last)",
      "\u001b[1;32m<ipython-input-7-4cb28f682a38>\u001b[0m in \u001b[0;36mcontrol\u001b[1;34m(self)\u001b[0m\n\u001b[0;32m     71\u001b[0m     \u001b[1;32mdef\u001b[0m \u001b[0mcontrol\u001b[0m\u001b[1;33m(\u001b[0m\u001b[0mself\u001b[0m\u001b[1;33m)\u001b[0m\u001b[1;33m:\u001b[0m\u001b[1;33m\u001b[0m\u001b[1;33m\u001b[0m\u001b[0m\n\u001b[0;32m     72\u001b[0m         \u001b[0m_translate\u001b[0m \u001b[1;33m=\u001b[0m \u001b[0mQtCore\u001b[0m\u001b[1;33m.\u001b[0m\u001b[0mQCoreApplication\u001b[0m\u001b[1;33m.\u001b[0m\u001b[0mtranslate\u001b[0m\u001b[1;33m\u001b[0m\u001b[1;33m\u001b[0m\u001b[0m\n\u001b[1;32m---> 73\u001b[1;33m         \u001b[0mtotal_vehicles\u001b[0m\u001b[1;33m,\u001b[0m \u001b[0meach_vehicle\u001b[0m \u001b[1;33m=\u001b[0m \u001b[0mcontrol_lights\u001b[0m\u001b[1;33m(\u001b[0m\u001b[0mcv2\u001b[0m\u001b[1;33m.\u001b[0m\u001b[0mimread\u001b[0m\u001b[1;33m(\u001b[0m\u001b[0mself\u001b[0m\u001b[1;33m.\u001b[0m\u001b[0mfile_path\u001b[0m\u001b[1;33m)\u001b[0m\u001b[1;33m)\u001b[0m\u001b[1;33m\u001b[0m\u001b[1;33m\u001b[0m\u001b[0m\n\u001b[0m\u001b[0;32m     74\u001b[0m         \u001b[0mself\u001b[0m\u001b[1;33m.\u001b[0m\u001b[0mlabel_3\u001b[0m\u001b[1;33m.\u001b[0m\u001b[0msetText\u001b[0m\u001b[1;33m(\u001b[0m\u001b[0mstr\u001b[0m\u001b[1;33m(\u001b[0m\u001b[0mtotal_vehicles\u001b[0m\u001b[1;33m)\u001b[0m\u001b[1;33m)\u001b[0m\u001b[1;33m\u001b[0m\u001b[1;33m\u001b[0m\u001b[0m\n\u001b[0;32m     75\u001b[0m         \u001b[0mself\u001b[0m\u001b[1;33m.\u001b[0m\u001b[0mlabel_5\u001b[0m\u001b[1;33m.\u001b[0m\u001b[0msetText\u001b[0m\u001b[1;33m(\u001b[0m\u001b[0mstr\u001b[0m\u001b[1;33m(\u001b[0m\u001b[0meach_vehicle\u001b[0m\u001b[1;33m.\u001b[0m\u001b[0mget\u001b[0m\u001b[1;33m(\u001b[0m\u001b[1;34m'car'\u001b[0m\u001b[1;33m,\u001b[0m\u001b[1;36m0\u001b[0m\u001b[1;33m)\u001b[0m\u001b[1;33m)\u001b[0m\u001b[1;33m)\u001b[0m\u001b[1;33m\u001b[0m\u001b[1;33m\u001b[0m\u001b[0m\n",
      "\u001b[1;32m~\\Desktop\\Smart-Traffic\\Vehicle count with YOLO\\vehicle.py\u001b[0m in \u001b[0;36mcontrol_lights\u001b[1;34m(image)\u001b[0m\n\u001b[0;32m     94\u001b[0m         \u001b[0mv_density\u001b[0m\u001b[1;33m=\u001b[0m\u001b[1;34m\"Low\"\u001b[0m\u001b[1;33m\u001b[0m\u001b[1;33m\u001b[0m\u001b[0m\n\u001b[0;32m     95\u001b[0m     \u001b[0mprint\u001b[0m\u001b[1;33m(\u001b[0m\u001b[0mv_density\u001b[0m\u001b[1;33m)\u001b[0m\u001b[1;33m\u001b[0m\u001b[1;33m\u001b[0m\u001b[0m\n\u001b[1;32m---> 96\u001b[1;33m     \u001b[0mser\u001b[0m\u001b[1;33m.\u001b[0m\u001b[0mwrite\u001b[0m\u001b[1;33m(\u001b[0m\u001b[0mstr\u001b[0m\u001b[1;33m.\u001b[0m\u001b[0mencode\u001b[0m\u001b[1;33m(\u001b[0m\u001b[0mv_density\u001b[0m\u001b[1;33m)\u001b[0m\u001b[1;33m)\u001b[0m\u001b[1;33m\u001b[0m\u001b[1;33m\u001b[0m\u001b[0m\n\u001b[0m\u001b[0;32m     97\u001b[0m     \u001b[0mdic\u001b[0m\u001b[1;33m=\u001b[0m\u001b[1;33m{\u001b[0m\u001b[1;34m\"High\"\u001b[0m\u001b[1;33m:\u001b[0m\u001b[1;36m10\u001b[0m\u001b[1;33m,\u001b[0m \u001b[1;34m\"Medium\"\u001b[0m\u001b[1;33m:\u001b[0m\u001b[1;36m8\u001b[0m\u001b[1;33m,\u001b[0m \u001b[1;34m\"Low\"\u001b[0m\u001b[1;33m:\u001b[0m \u001b[1;36m5\u001b[0m\u001b[1;33m}\u001b[0m\u001b[1;33m\u001b[0m\u001b[1;33m\u001b[0m\u001b[0m\n\u001b[0;32m     98\u001b[0m     \u001b[0mtime\u001b[0m\u001b[1;33m.\u001b[0m\u001b[0msleep\u001b[0m\u001b[1;33m(\u001b[0m\u001b[0mdic\u001b[0m\u001b[1;33m[\u001b[0m\u001b[0mv_density\u001b[0m\u001b[1;33m]\u001b[0m\u001b[1;33m)\u001b[0m\u001b[1;33m\u001b[0m\u001b[1;33m\u001b[0m\u001b[0m\n",
      "\u001b[1;31mNameError\u001b[0m: name 'ser' is not defined"
     ]
    },
    {
     "ename": "SystemExit",
     "evalue": "0",
     "output_type": "error",
     "traceback": [
      "An exception has occurred, use %tb to see the full traceback.\n",
      "\u001b[1;31mSystemExit\u001b[0m\u001b[1;31m:\u001b[0m 0\n"
     ]
    },
    {
     "name": "stderr",
     "output_type": "stream",
     "text": [
      "C:\\Users\\user\\Anaconda3\\lib\\site-packages\\IPython\\core\\interactiveshell.py:3304: UserWarning: To exit: use 'exit', 'quit', or Ctrl-D.\n",
      "  warn(\"To exit: use 'exit', 'quit', or Ctrl-D.\", stacklevel=1)\n"
     ]
    }
   ],
   "source": [
    "\n",
    "class Ui_MainWindow(object):\n",
    "    def setupUi(self, MainWindow):\n",
    "        MainWindow.setObjectName(\"MainWindow\")\n",
    "        MainWindow.resize(610, 432)\n",
    "        self.centralwidget = QtWidgets.QWidget(MainWindow)\n",
    "        self.centralwidget.setObjectName(\"centralwidget\")\n",
    "        self.label_11 = QtWidgets.QLabel(self.centralwidget)\n",
    "        self.label_11.setGeometry(QtCore.QRect(360, 360, 55, 16))\n",
    "        self.label_11.setObjectName(\"label_11\")\n",
    "        self.label_13 = QtWidgets.QLabel(self.centralwidget)\n",
    "        self.label_13.setGeometry(QtCore.QRect(360, 385, 55, 31))\n",
    "        self.label_13.setObjectName(\"label_13\")\n",
    "        self.textEdit = QtWidgets.QTextEdit(self.centralwidget)\n",
    "        self.textEdit.setGeometry(QtCore.QRect(190, 60, 291, 41))\n",
    "        self.textEdit.setObjectName(\"textEdit\")\n",
    "        self.label_4 = QtWidgets.QLabel(self.centralwidget)\n",
    "        self.label_4.setGeometry(QtCore.QRect(200, 270, 131, 16))\n",
    "        self.label_4.setObjectName(\"label_4\")\n",
    "        self.label_9 = QtWidgets.QLabel(self.centralwidget)\n",
    "        self.label_9.setGeometry(QtCore.QRect(360, 330, 55, 16))\n",
    "        self.label_9.setObjectName(\"label_9\")\n",
    "        self.label = QtWidgets.QLabel(self.centralwidget)\n",
    "        self.label.setGeometry(QtCore.QRect(60, 60, 121, 41))\n",
    "        self.label.setObjectName(\"label\")\n",
    "        self.label_2 = QtWidgets.QLabel(self.centralwidget)\n",
    "        self.label_2.setGeometry(QtCore.QRect(200, 240, 121, 16))\n",
    "        self.label_2.setObjectName(\"label_2\")\n",
    "        self.label_6 = QtWidgets.QLabel(self.centralwidget)\n",
    "        self.label_6.setGeometry(QtCore.QRect(200, 290, 141, 31))\n",
    "        self.label_6.setObjectName(\"label_6\")\n",
    "        self.label_10 = QtWidgets.QLabel(self.centralwidget)\n",
    "        self.label_10.setGeometry(QtCore.QRect(200, 360, 141, 16))\n",
    "        self.label_10.setObjectName(\"label_10\")\n",
    "        self.label_12 = QtWidgets.QLabel(self.centralwidget)\n",
    "        self.label_12.setGeometry(QtCore.QRect(200, 385, 141, 31))\n",
    "        self.label_12.setObjectName(\"label_12\")\n",
    "        self.label_7 = QtWidgets.QLabel(self.centralwidget)\n",
    "        self.label_7.setGeometry(QtCore.QRect(360, 296, 55, 20))\n",
    "        self.label_7.setObjectName(\"label_7\")\n",
    "        self.pushButton = QtWidgets.QPushButton(self.centralwidget)\n",
    "        self.pushButton.setGeometry(QtCore.QRect(510, 60, 71, 41))\n",
    "        self.pushButton.setObjectName(\"pushButton\")\n",
    "        self.label_3 = QtWidgets.QLabel(self.centralwidget)\n",
    "        self.label_3.setGeometry(QtCore.QRect(360, 240, 71, 20))\n",
    "        self.label_3.setObjectName(\"label_3\")\n",
    "        self.label_8 = QtWidgets.QLabel(self.centralwidget)\n",
    "        self.label_8.setGeometry(QtCore.QRect(200, 320, 141, 31))\n",
    "        self.label_8.setObjectName(\"label_8\")\n",
    "        self.label_5 = QtWidgets.QLabel(self.centralwidget)\n",
    "        self.label_5.setGeometry(QtCore.QRect(360, 270, 55, 16))\n",
    "        self.label_5.setObjectName(\"label_5\")\n",
    "        self.pushButton_2 = QtWidgets.QPushButton(self.centralwidget)\n",
    "        self.pushButton_2.setGeometry(QtCore.QRect(280, 120, 101, 41))\n",
    "        self.pushButton_2.setObjectName(\"pushButton_2\")\n",
    "        MainWindow.setCentralWidget(self.centralwidget)\n",
    "        self.statusbar = QtWidgets.QStatusBar(MainWindow)\n",
    "        self.statusbar.setObjectName(\"statusbar\")\n",
    "        MainWindow.setStatusBar(self.statusbar)\n",
    "\n",
    "        self.retranslateUi(MainWindow)\n",
    "        self.pushButton.clicked.connect(self.getFile)\n",
    "        self.pushButton_2.clicked.connect(self.control)\n",
    "        QtCore.QMetaObject.connectSlotsByName(MainWindow)\n",
    "        \n",
    "    def getFile(self):\n",
    "        self.file_path = QtWidgets.QFileDialog.getOpenFileName(None, 'Open file','',\"(*.jpg *.bmp *.png)\")[0]\n",
    "        if self.file_path != '':\n",
    "            self.textEdit.setText(self.file_path)\n",
    "\n",
    "    def control(self):\n",
    "        _translate = QtCore.QCoreApplication.translate\n",
    "        total_vehicles, each_vehicle = control_lights(cv2.imread(self.file_path))\n",
    "        self.label_3.setText(str(total_vehicles))\n",
    "        self.label_5.setText(str(each_vehicle.get('car',0)))\n",
    "        self.label_7.setText(str(each_vehicle.get('bus',0)))\n",
    "        self.label_9.setText(str(each_vehicle.get('motorbike',0)))\n",
    "        self.label_11.setText(str(each_vehicle.get('bicycle',0)))\n",
    "        self.label_13.setText(str(each_vehicle.get('truck',0)))\n",
    "        self.pushButton.setText(_translate(\"MainWindow\", \"Next Image\"))\n",
    "        \n",
    "\n",
    "    def retranslateUi(self, MainWindow):\n",
    "        _translate = QtCore.QCoreApplication.translate\n",
    "        MainWindow.setWindowTitle(_translate(\"MainWindow\", \"MainWindow\"))\n",
    "        self.label_11.setText(_translate(\"MainWindow\", \"00\"))\n",
    "        self.label_4.setText(_translate(\"MainWindow\", \"Total number of Cars:\"))\n",
    "        self.label_9.setText(_translate(\"MainWindow\", \"00\"))\n",
    "        self.label_13.setText(_translate(\"MainWindow\", \"00\"))\n",
    "        self.label.setText(_translate(\"MainWindow\", \"Choose  Image File\"))\n",
    "        self.label_2.setText(_translate(\"MainWindow\", \"Total no of vehicles:\"))\n",
    "        self.label_6.setText(_translate(\"MainWindow\", \"Total number of buses:\"))\n",
    "        self.label_10.setText(_translate(\"MainWindow\", \"Total no. of bicycles:\"))\n",
    "        self.label_12.setText(_translate(\"MainWindow\", \"Total no. of trucks:\"))\n",
    "        self.label_7.setText(_translate(\"MainWindow\", \"00\"))\n",
    "        self.pushButton.setText(_translate(\"MainWindow\", \"...\"))\n",
    "        self.label_3.setText(_translate(\"MainWindow\", \"00\"))\n",
    "        self.label_8.setText(_translate(\"MainWindow\", \"Total no. of motorbikes:\"))\n",
    "        self.label_5.setText(_translate(\"MainWindow\", \"00\"))\n",
    "        self.pushButton_2.setText(_translate(\"MainWindow\", \"Start\"))\n",
    "\n",
    "\n",
    "if __name__ == \"__main__\":\n",
    "    import sys\n",
    "    app = QtWidgets.QApplication(sys.argv)\n",
    "    MainWindow = QtWidgets.QMainWindow()\n",
    "    ui = Ui_MainWindow()\n",
    "    ui.setupUi(MainWindow)\n",
    "    MainWindow.show()\n",
    "    sys.exit(app.exec_())\n",
    "\n",
    "\n"
   ]
  },
  {
   "cell_type": "code",
   "execution_count": null,
   "metadata": {},
   "outputs": [],
   "source": []
  }
 ],
 "metadata": {
  "kernelspec": {
   "display_name": "Python 3",
   "language": "python",
   "name": "python3"
  },
  "language_info": {
   "codemirror_mode": {
    "name": "ipython",
    "version": 3
   },
   "file_extension": ".py",
   "mimetype": "text/x-python",
   "name": "python",
   "nbconvert_exporter": "python",
   "pygments_lexer": "ipython3",
   "version": "3.7.3"
  }
 },
 "nbformat": 4,
 "nbformat_minor": 2
}
